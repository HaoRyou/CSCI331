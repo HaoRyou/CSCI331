{
    "metadata": {
        "kernelspec": {
            "name": "SQL",
            "display_name": "SQL",
            "language": "sql"
        },
        "language_info": {
            "name": "sql",
            "version": ""
        }
    },
    "nbformat_minor": 2,
    "nbformat": 4,
    "cells": [
        {
            "cell_type": "markdown",
            "source": [
                "<h1 style = \"color:#0D0630\">Query 1</h1>\n",
                "\n",
                "<div style=\"border:2px solid #C57B57; padding: 7px; background-color:#FEFAEC\">\n",
                "<h2 style=\"color:#3A435E\"><b>Proposition Statement:</h2>\n",
                "<h3>Show all instructors who are teaching in classes in multiple departments.</b></h3>\n",
                "<p><i>(Completed by Jude Pierre)</i></p></div>"
            ],
            "metadata": {
                "azdata_cell_guid": "e2fdccd8-29ad-4cf5-9bf7-96bb4d43cb35"
            },
            "attachments": {}
        },
        {
            "cell_type": "code",
            "source": [
                "Use QueensClassSchedule;\n",
                "\n",
                "SELECT DI.InstructorFullName\n",
                "FROM [dbo].[Department_Instructor] AS DI\n",
                "    INNER JOIN [Course].Class AS C \n",
                "        ON DI.InstructorFullName = C.InstructorFullName\n",
                "GROUP BY DI.InstructorFullName\n",
                "HAVING COUNT(DI.DepartmentKey) > 1 AND COUNT(C.ClassKey) > 1;"
            ],
            "metadata": {
                "azdata_cell_guid": "55def0bb-8eea-481e-85f8-29f59e25f3c7",
                "language": "sql"
            },
            "outputs": [],
            "execution_count": null
        },
        {
            "cell_type": "markdown",
            "source": [
                "<h1 style = \"color:#0D0630\">Query 2</h1>\n",
                "\n",
                "<div style=\"border:2px solid #C57B57; padding: 7px; background-color:#FEFAEC\">\n",
                "<h2 style=\"color:#3A435E\"><b>Proposition Statement:</h2>\n",
                "<h3><b>Count the number of instructors in each department.</b></h3>\n",
                "<p><i>(Completed by Osvaldo Talavera)</i></p>\n",
                "</div>"
            ],
            "metadata": {
                "azdata_cell_guid": "09108c28-5782-4651-a0c8-3972ebe9ea16"
            },
            "attachments": {}
        },
        {
            "cell_type": "code",
            "source": [
                "USE QueensClassSchedule;\n",
                "\n",
                "SELECT D.DepartmentName, COUNT(DISTINCT I.InstructorKey) AS NumberOfInstructors\n",
                "FROM Department.Department AS D\n",
                "    INNER JOIN dbo.Department_Instructor AS DI \n",
                "    ON D.DepartmentKey = DI.DepartmentKey\n",
                "    INNER JOIN Department.Instructor AS I \n",
                "    ON DI.InstructorKey = I.InstructorKey\n",
                "GROUP BY D.DepartmentName\n",
                "ORDER BY NumberOfInstructors DESC;"
            ],
            "metadata": {
                "azdata_cell_guid": "e4c7b00c-ffc8-4279-b014-3ed63e8f17c0",
                "language": "sql"
            },
            "outputs": [],
            "execution_count": null
        },
        {
            "cell_type": "markdown",
            "source": [
                "<h1 style = \"color:#0D0630\">Query 3</h1>\n",
                "\n",
                "<div style=\"border:2px solid #C57B57; padding: 7px; background-color:#FEFAEC\">\n",
                "<h2 style=\"color:#3A435E\"><b>Proposition Statement:</h2>\n",
                "<h3><b>Show how many classes are being taught that semester, grouped by course, aggregating the total enrollment, total class limit, and percentage enrolled.</b></h3>\n",
                "<p><i>(Completed by Kathy He)</i></p>\n",
                "</div>"
            ],
            "metadata": {
                "language": "sql",
                "azdata_cell_guid": "497ff20b-c97b-4c0b-a55e-86e8effbb5ed"
            },
            "attachments": {}
        },
        {
            "cell_type": "code",
            "source": [
                "USE QueensClassSchedule;\n",
                "\n",
                "DECLARE @GrandTotalEnrolled INT;\n",
                "SET @GrandTotalEnrolled = (SELECT SUM(NumberEnrolled) FROM [Course].[Class]);\n",
                "\n",
                "SELECT CourseName,\n",
                "       COUNT(ClassKey) AS NumberOfClasses,\n",
                "       SUM(NumberEnrolled) AS TotalNumberEnrolled,\n",
                "       SUM(Limit) AS TotalLimit,\n",
                "       PercentageClassFilled = CAST((((SUM(NumberEnrolled)+0.0)/SUM(Limit))*100)AS decimal(5,2)),\n",
                "       PercentageEnrolled = CAST((((SUM(NumberEnrolled)+0.0)/@GrandTotalEnrolled)*100)AS decimal(5,2))\n",
                "FROM [Course].[Class]\n",
                "GROUP BY CourseName;"
            ],
            "metadata": {
                "language": "sql",
                "azdata_cell_guid": "afa2f531-6904-4a20-a36f-c8554eb187f2"
            },
            "outputs": [],
            "execution_count": null
        },
        {
            "cell_type": "markdown",
            "source": [
                "<h1 style = \"color:#0D0630\">Query 4</h1>\n",
                "\n",
                "<div style=\"border:2px solid #C57B57; padding: 7px; background-color:#FEFAEC\">\n",
                "<h2 style=\"color:#3A435E\"><b>Proposition Statement:</h2>\n",
                "<h3><b>Give a count of all the rooms that are inside each building that is used for teaching a class.</b></h3>\n",
                "<p><i>(Completed by Jude Pierre)</i></p>\n",
                "</div>"
            ],
            "metadata": {
                "language": "sql",
                "azdata_cell_guid": "7eb7d2ab-3c41-49de-a0dd-2e4869e852b6"
            },
            "attachments": {}
        },
        {
            "cell_type": "code",
            "source": [
                "---===========================================================\n",
                "---This query gives a count of all the rooms that are inside each building\n",
                "--- that is used for teaching a class.\n",
                "---==========================================================\n",
                "USE QueensClassSchedule;\n",
                "SELECT  L.BuildingLocationKey, L.BuildingLocationName, COUNT(LL.RoomLocationKey) AS NumberOfTeachingRooms\n",
                "From [Location].BuildingLocation AS L\n",
                "LEFT OUTER JOIN [Location].RoomLocation AS LL\n",
                "ON L.BuildingLocationKey = LL.BuildingLocationKey\n",
                "GROUP BY L.BuildingLocationName, L.BuildingLocationKey\n",
                ""
            ],
            "metadata": {
                "language": "sql",
                "azdata_cell_guid": "3efc7305-26bc-4445-8250-9777e562ffb0"
            },
            "outputs": [],
            "execution_count": null
        },
        {
            "cell_type": "markdown",
            "source": [
                "<h1 style = \"color:#0D0630\">Query 5</h1>\n",
                "\n",
                "<div style=\"border:2px solid #C57B57; padding: 7px; background-color:#FEFAEC\">\n",
                "<h2 style=\"color:#3A435E\"><b>Proposition Statement:</h2>\n",
                "<h3><b>Display total number of classes and total enrollment for each day and section of the week.</b></h3>\n",
                "<p><i>(Completed by Jamal Siddiqui)</i></p>\n",
                "</div>"
            ],
            "metadata": {
                "language": "sql",
                "azdata_cell_guid": "869c8d97-a88f-42c4-b8f5-920f92b4ade4"
            },
            "attachments": {}
        },
        {
            "cell_type": "code",
            "source": [
                "USE [QueensClassSchedule];\n",
                "GO\n",
                "\n",
                "--Project 3: Other Query 2 - Jamal Siddiqui\n",
                "\n",
                "SELECT\n",
                "    Day,\n",
                "    Section,\n",
                "    COUNT(*) AS TotalClasses,\n",
                "    SUM(NumberEnrolled) AS TotalEnrollment\n",
                "FROM \n",
                "    Course.Class\n",
                "GROUP BY \n",
                "    Day,\n",
                "    Section\n",
                "ORDER BY \n",
                "    Day,\n",
                "    Section;"
            ],
            "metadata": {
                "language": "sql",
                "azdata_cell_guid": "99e382f9-77b5-44a5-b6b5-76aba0b17fe4"
            },
            "outputs": [],
            "execution_count": null
        },
        {
            "cell_type": "markdown",
            "source": [
                "<h1 style = \"color:#0D0630\">Query 6</h1>\n",
                "\n",
                "<div style=\"border:2px solid #C57B57; padding: 7px; background-color:#FEFAEC\">\n",
                "<h2 style=\"color:#3A435E\"><b>Proposition Statement:</h2>\n",
                "<h3><b>Show how many 4-credit classes still have enrollment slots open.</b></h3>\n",
                "<p><i>(Completed by Jianhao Jin)</i></p>\n",
                "</div>"
            ],
            "metadata": {
                "language": "sql",
                "azdata_cell_guid": "e0b9c182-b5d7-4156-aead-1578aa9f6f0d"
            },
            "attachments": {}
        },
        {
            "cell_type": "code",
            "source": [
                "USE QueensClassSchedule;\n",
                "GO\n",
                "\n",
                "--All class with 4 credit that still has place to login\n",
                "SELECT c.CourseName,c.CourseDescription, (CAST(c.Limit AS INT) - CAST(c.NumberEnrolled AS INT)) AS numberofSpace\n",
                "FROM Course.Class as c\n",
                "    INNER JOIN Course.Course AS co\n",
                "        ON c.CourseKey = co.CourseKey\n",
                "WHERE (CAST(c.Limit AS INT) - CAST(c.NumberEnrolled AS INT)) >0\n",
                "AND co.NumberOfCredits = 4"
            ],
            "metadata": {
                "language": "sql",
                "azdata_cell_guid": "3a4b2dd9-3043-4a46-a575-da6f5ee669da"
            },
            "outputs": [],
            "execution_count": null
        },
        {
            "cell_type": "markdown",
            "source": [
                "<h1 style = \"color:#0D0630\">Query 7</h1>\n",
                "\n",
                "<div style=\"border:2px solid #C57B57; padding: 7px; background-color:#FEFAEC\">\n",
                "<h2 style=\"color:#3A435E\"><b>Proposition Statement:</h2>\n",
                "<h3><b>Get a count of all classes, grouped by Mode of Instruction.</b></h3>\n",
                "<p><i>(Completed by Kathy He)</i></p>\n",
                "</div>"
            ],
            "metadata": {
                "language": "sql",
                "azdata_cell_guid": "4e65ef04-42e9-4300-a257-45dfda727ea7"
            },
            "attachments": {}
        },
        {
            "cell_type": "code",
            "source": [
                "USE QueensClassSchedule;\n",
                "\n",
                "SELECT ModeOfInstructionName AS ModeOfInstruction,\n",
                "       COUNT(ClassKey) AS NumberOfClasses\n",
                "FROM Course.Class\n",
                "GROUP BY ModeOfInstructionName;"
            ],
            "metadata": {
                "language": "sql",
                "azdata_cell_guid": "385d6f9c-5c13-4165-83b7-a47d3cdfa471"
            },
            "outputs": [],
            "execution_count": null
        },
        {
            "cell_type": "markdown",
            "source": [
                "<h1 style = \"color:#0D0630\">Query 8</h1>\n",
                "\n",
                "<div style=\"border:2px solid #C57B57; padding: 7px; background-color:#FEFAEC\">\n",
                "<h2 style=\"color:#3A435E\"><b>Proposition Statement:</h2>\n",
                "<h3><b>Show the number of students enrolled in every overtallied class, along with percentage of the overtally.</b></h3>\n",
                "<p><i>(Completed by Kathy He)</i></p>\n",
                "</div>"
            ],
            "metadata": {
                "language": "sql",
                "azdata_cell_guid": "583feb11-2655-4adb-8891-25c290b3c488"
            },
            "attachments": {}
        },
        {
            "cell_type": "code",
            "source": [
                "USE QueensClassSchedule;\n",
                "\n",
                "SELECT NumberEnrolled,\n",
                "       PercentageOvertallied = CAST(((NumberEnrolled+0.0)/Limit)*100 AS DECIMAL(5,2))\n",
                "FROM [Course].[Class]\n",
                "WHERE Overtally>0;"
            ],
            "metadata": {
                "language": "sql",
                "azdata_cell_guid": "a831b679-b6c3-4608-a53c-9f271b747632"
            },
            "outputs": [],
            "execution_count": null
        },
        {
            "cell_type": "markdown",
            "source": [
                "<h1 style = \"color:#0D0630\">Query 9</h1>\n",
                "\n",
                "<div style=\"border:2px solid #C57B57; padding: 7px; background-color:#FEFAEC\">\n",
                "<h2 style=\"color:#3A435E\"><b>Proposition Statement:</h2>\n",
                "<h3><b>Show how many classes are held in each building where classes are being held this semester, from highest to lowest.</b></h3>\n",
                "<p><i>(Completed by Kathy He)</i></p>\n",
                "</div>"
            ],
            "metadata": {
                "language": "sql",
                "azdata_cell_guid": "a0b9b716-4be4-46f9-aa88-aef054951c8b"
            },
            "attachments": {}
        },
        {
            "cell_type": "code",
            "source": [
                "USE QueensClassSchedule;\n",
                "\n",
                "SELECT BL.BuildingLocationName AS BuildingName,\n",
                "       COUNT(C.ClassKey) AS NumberOfClasses\n",
                "FROM Course.Class AS C\n",
                "    INNER JOIN Location.RoomLocation AS RL\n",
                "        ON RL.RoomLocationKey = C.RoomLocationKey\n",
                "            INNER JOIN Location.BuildingLocation AS BL\n",
                "                ON BL.BuildingLocationKey = RL.BuildingLocationkey\n",
                "GROUP BY BL.BuildingLocationName\n",
                "ORDER BY NumberOfClasses DESC;"
            ],
            "metadata": {
                "language": "sql",
                "azdata_cell_guid": "b01ef4f6-1e42-42db-9d3e-f6f46a996601"
            },
            "outputs": [],
            "execution_count": null
        },
        {
            "cell_type": "markdown",
            "source": [
                "<h1 style = \"color:#0D0630\">Query 10</h1>\n",
                "\n",
                "<div style=\"border:2px solid #C57B57; padding: 7px; background-color:#FEFAEC\">\n",
                "<h2 style=\"color:#3A435E\"><b>Proposition Statement:</h2>\n",
                "<h3><b>Show the number of classes each instructor teaches, depending on the days scheduled.</b></h3>\n",
                "<p><i>(Completed by Kathy He)</i></p>\n",
                "</div>"
            ],
            "metadata": {
                "language": "sql",
                "azdata_cell_guid": "324bb4bf-fbb8-44ce-b629-3d6ccc0ba41e"
            },
            "attachments": {}
        },
        {
            "cell_type": "code",
            "source": [
                "USE QueensClassSchedule;\n",
                "\n",
                "SELECT I.InstructorFirstName,\n",
                "       I.InstructorLastName,\n",
                "       C.Day,\n",
                "       COUNT(C.CourseCode) AS CountOfClasses\n",
                "FROM [Course].[Class] AS C\n",
                "    LEFT OUTER JOIN [Department].[Instructor] AS I\n",
                "        ON C.InstructorKey = I.InstructorKey\n",
                "GROUP BY I.InstructorFirstName, I.InstructorLastName, C.[Day]\n",
                "ORDER BY I.InstructorLastName;"
            ],
            "metadata": {
                "language": "sql",
                "azdata_cell_guid": "38abd6bd-cf3f-4b6d-a07b-665affc8e08e"
            },
            "outputs": [],
            "execution_count": null
        },
        {
            "cell_type": "markdown",
            "source": [
                "<h1 style = \"color:#0D0630\">Query 11</h1>\n",
                "\n",
                "<div style=\"border:2px solid #C57B57; padding: 7px; background-color:#FEFAEC\">\n",
                "<h2 style=\"color:#3A435E\"><b>Proposition Statement:</h2>\n",
                "<h3><b>Show the percentage of enrollment for the day(s) of the week that classes are held on, for each course.</b></h3>\n",
                "<p><i>(Completed by Kathy He)</i></p>\n",
                "</div>"
            ],
            "metadata": {
                "language": "sql",
                "azdata_cell_guid": "ffaaf684-556b-413e-8038-4107eafffa84"
            },
            "attachments": {}
        },
        {
            "cell_type": "code",
            "source": [
                "USE QueensClassSchedule;\n",
                "\n",
                "\n",
                "SELECT CO.CourseName AS CourseName,\n",
                "       C.Day AS DayOfWeek,\n",
                "       SUM(C.NumberEnrolled) AS TotalNumberEnrolled,\n",
                "       SUM(C.Limit) AS TotalLimit,\n",
                "       CAST(((SUM(C.NumberEnrolled)+0.0)/\n",
                "            (SELECT SUM(NumberEnrolled) FROM [Course].[Class] WHERE CourseName = CO.CourseName))*100 AS DECIMAL(4,2)) AS PercentageOfTotalEnrollment\n",
                "FROM [Course].[Class] AS C\n",
                "    INNER JOIN [Course].[Course] AS CO \n",
                "        ON C.CourseKey = CO.CourseKey\n",
                "GROUP BY CO.CourseName, C.Day "
            ],
            "metadata": {
                "language": "sql",
                "azdata_cell_guid": "f9f18842-b374-4fef-b775-7162ab3dc61d"
            },
            "outputs": [],
            "execution_count": null
        },
        {
            "cell_type": "markdown",
            "source": [
                "<h1 style = \"color:#0D0630\">Query 12</h1>\n",
                "\n",
                "<div style=\"border:2px solid #C57B57; padding: 7px; background-color:#FEFAEC\">\n",
                "<h2 style=\"color:#3A435E\"><b>Proposition Statement:</h2>\n",
                "<h3><b>Look at each course and its associated classes and compare the number of students enrolled for those classes based off mode of instruction.</b></h3>\n",
                "<p><i>(Completed by Kathy He)</i></p>\n",
                "</div>"
            ],
            "metadata": {
                "language": "sql",
                "azdata_cell_guid": "95ce43a1-6f7f-46a1-987f-218913e92d6d"
            },
            "attachments": {}
        },
        {
            "cell_type": "code",
            "source": [
                "USE QueensClassSchedule;\n",
                "\n",
                "SELECT CO.CourseName,\n",
                "       MOI.ModeOfInstructionName,\n",
                "       COUNT(C.ClassKey) AS NumberOfClasses,\n",
                "       SUM(C.NumberEnrolled) AS NumberEnrolled\n",
                "FROM [Course].[Course] AS CO \n",
                "    INNER JOIN [Course].[Class] AS C\n",
                "        ON CO.CourseKey = C.CourseKey\n",
                "            INNER JOIN [Class].[ModeOfInstruction] AS MOI\n",
                "                ON C.ModeOfInstructionKey = MOI.ModeOfInstructionKey\n",
                "GROUP BY CO.CourseName, MOI.ModeOfInstructionName\n",
                "ORDER BY CO.CourseName, ModeOfInstructionName;"
            ],
            "metadata": {
                "language": "sql",
                "azdata_cell_guid": "3ddef00c-178d-454a-bfc4-39c3b76db9cc"
            },
            "outputs": [],
            "execution_count": null
        },
        {
            "cell_type": "markdown",
            "source": [
                "<h1 style = \"color:#0D0630\">Query 13</h1>\n",
                "\n",
                "<div style=\"border:2px solid #C57B57; padding: 7px; background-color:#FEFAEC\">\n",
                "<h2 style=\"color:#3A435E\"><b>Proposition Statement:</h2>\n",
                "<h3><b>Create a function that will help the user search up which classes currently have openings if they provide the course title.</b></h3>\n",
                "<p><i>(Completed by Kathy He)</i></p>\n",
                "</div>"
            ],
            "metadata": {
                "language": "sql",
                "azdata_cell_guid": "9fe38e10-53a0-4cc3-a4b1-5d57642a6609"
            },
            "attachments": {}
        },
        {
            "cell_type": "code",
            "source": [
                "USE [QueensClassSchedule];\n",
                "GO\n",
                "\n",
                "CREATE OR ALTER FUNCTION [Class].[itvf_GetAvailableClasses] (@CourseTitle varchar(50))\n",
                "RETURNS TABLE\n",
                "AS\n",
                "RETURN (\n",
                "    SELECT C.CourseCode, C.Section, C.CourseName, C.CourseDescription, C.InstructorFullName, C.Day, CO.NumberOfHours, C.NumberEnrolled, C.Limit\n",
                "    FROM Course.Class AS C\n",
                "        INNER JOIN Course.Course AS CO\n",
                "            ON C.CourseKey = CO.CourseKey\n",
                "    WHERE C.CourseName = @CourseTitle AND C.NumberEnrolled < C.Limit\n",
                ");\n",
                "GO\n",
                "\n",
                "SELECT *\n",
                "FROM [Class].[itvf_GetAvailableClasses]('ACCT 101 (4, 3)');"
            ],
            "metadata": {
                "language": "sql",
                "azdata_cell_guid": "21bbf065-02e9-4704-b631-111625279176"
            },
            "outputs": [],
            "execution_count": null
        }
    ]
}